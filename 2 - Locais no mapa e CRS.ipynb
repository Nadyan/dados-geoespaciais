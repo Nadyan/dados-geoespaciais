{
  "nbformat": 4,
  "nbformat_minor": 0,
  "metadata": {
    "colab": {
      "name": "2 - Locais no mapa e CRS.ipynb",
      "provenance": []
    },
    "kernelspec": {
      "name": "python3",
      "display_name": "Python 3"
    },
    "language_info": {
      "name": "python"
    }
  },
  "cells": [
    {
      "cell_type": "markdown",
      "metadata": {
        "id": "Gr06ZAJaNwfX"
      },
      "source": [
        "FTP do IBGE:\n",
        "\n",
        "https://geoftp.ibge.gov.br/\n",
        "\n",
        "Mapas:\n",
        "\n",
        "https://geoftp.ibge.gov.br/organizacao_do_territorio/malhas_territoriais/malhas_municipais/municipio_2020/UFs/SC/"
      ]
    },
    {
      "cell_type": "code",
      "metadata": {
        "id": "Vsrq271QNmjR"
      },
      "source": [
        "!pip install --upgrade geopandas\n",
        "!pip install --upgrade pyshp\n",
        "!pip install --upgrade shapely\n",
        "!pip install --upgrade descartes\n",
        "!pip install --upgrade pandas\n",
        "\n",
        "import geopandas as gpd\n",
        "import pandas as pd\n",
        "from shapely.geometry import Point"
      ],
      "execution_count": null,
      "outputs": []
    },
    {
      "cell_type": "code",
      "metadata": {
        "colab": {
          "base_uri": "https://localhost:8080/",
          "height": 300
        },
        "id": "I2OwAVGDN2Gt",
        "outputId": "66c4dbc8-3d22-4ba1-e71d-84ccbd1bf117"
      },
      "source": [
        "# Mapa do município do Rio de Janeiro\n",
        "path = '/content/drive/MyDrive/Programacao/GeoPandas/Mapas/RJ/33MUE250GC_SIR.shp'\n",
        "\n",
        "rj = gpd.read_file(path)\n",
        "rj = rj[rj['NM_MUNICIP'] == 'RIO DE JANEIRO']\n",
        "\n",
        "rj.plot(color='white', edgecolor='black', figsize=(8,8))"
      ],
      "execution_count": 67,
      "outputs": [
        {
          "output_type": "execute_result",
          "data": {
            "text/plain": [
              "<matplotlib.axes._subplots.AxesSubplot at 0x7f08aa5a3b10>"
            ]
          },
          "metadata": {},
          "execution_count": 67
        },
        {
          "output_type": "display_data",
          "data": {
            "image/png": "[encoded data removed]",
            "text/plain": [
              "<Figure size 576x576 with 1 Axes>"
            ]
          },
          "metadata": {
            "needs_background": "light"
          }
        }
      ]
    },
    {
      "cell_type": "code",
      "metadata": {
        "colab": {
          "base_uri": "https://localhost:8080/"
        },
        "id": "rxxiO5YaOGxA",
        "outputId": "dba53d3e-884c-4733-a3f0-e6b2a6e588fd"
      },
      "source": [
        "# Dados dos imóveis do município do Rio de Janeiro\n",
        "\n",
        "path = '/content/drive/MyDrive/Programacao/GeoPandas/Dados/dados.txt'\n",
        "\n",
        "dados = pd.read_table(path)\n",
        "print(dados)"
      ],
      "execution_count": 62,
      "outputs": [
        {
          "output_type": "stream",
          "name": "stdout",
          "text": [
            "      Area                    Bairro  ... Transacao    Valor\n",
            "0      138  Recreio dos Bandeirantes  ...     Venda  1095000\n",
            "1      133   Freguesia (Jacarepaguá)  ...     Venda   650000\n",
            "2       46                   Pilares  ...     Venda   150000\n",
            "3       65           Barra da Tijuca  ...     Venda   430000\n",
            "4       85                     Gávea  ...     Venda  1800000\n",
            "...    ...                       ...  ...       ...      ...\n",
            "4995    48              Campo Grande  ...     Venda   170000\n",
            "4996    75  Recreio dos Bandeirantes  ...     Venda   550000\n",
            "4997    32           Jardim Botânico  ...     Venda   580000\n",
            "4998    85                    Grajaú  ...     Venda   325000\n",
            "4999    52              Campo Grande  ...     Venda   135000\n",
            "\n",
            "[5000 rows x 13 columns]\n"
          ]
        }
      ]
    },
    {
      "cell_type": "markdown",
      "metadata": {
        "id": "gN_7vn8vYi-C"
      },
      "source": [
        "Agora, transformaremos o DataFrame em GeoDataFrame e as colunas Latitude e Longitude em Geometry."
      ]
    },
    {
      "cell_type": "code",
      "metadata": {
        "id": "VFhPBElAOogi",
        "colab": {
          "base_uri": "https://localhost:8080/",
          "height": 610
        },
        "outputId": "d726fe36-4140-45c9-eb06-ecfce031aec6"
      },
      "source": [
        "localizacoes = zip(dados.Longitude, dados.Latitude) # iterador com as longitudes e latitudes\n",
        "geometry = [Point(localizacao) for localizacao in localizacoes] # lista de Points com as localizações\n",
        "\n",
        "crs = {'proj' : 'latlong',\n",
        "       'ellps': 'WGS84',\n",
        "       'datum' : 'WGS84',\n",
        "       'no_defs' : True}\n",
        "\n",
        "gdf_dados = gpd.GeoDataFrame(dados, crs = crs, geometry = geometry)\n",
        "gdf_dados.plot(alpha=0.3, figsize=(8,10))"
      ],
      "execution_count": 59,
      "outputs": [
        {
          "output_type": "execute_result",
          "data": {
            "text/plain": [
              "<matplotlib.axes._subplots.AxesSubplot at 0x7f08a9f27910>"
            ]
          },
          "metadata": {},
          "execution_count": 59
        },
        {
          "output_type": "display_data",
          "data": {
            "image/png": "[encoded data removed]",
            "text/plain": [
              "<Figure size 576x720 with 1 Axes>"
            ]
          },
          "metadata": {
            "needs_background": "light"
          }
        }
      ]
    },
    {
      "cell_type": "markdown",
      "metadata": {
        "id": "U1fqFulVddVX"
      },
      "source": [
        "Devemos equalizar o crs do GeoDataFrame rj e o gdf_dados para UTM.\n",
        "\n",
        "Como estamos trabalhando com o RJ, sabemos que ele está na zona 23S da projeção UTM e o SIRGAS é utilziado para a América Latina. Podemos pesquisar o código em: \n",
        "\n",
        "www.spatialreference.org\n",
        "\n",
        "Buscamos por Sirgas, existe o código EPSG:31983: SIRGAS 2000 / UTM zone 23S, que é a zona do RJ:\n",
        "\n",
        "https://www.spatialreference.org/ref/epsg/31983/\n",
        "\n",
        "Entrando no link proj4 temos o código da projeção:\n",
        "\n",
        "https://www.spatialreference.org/ref/epsg/31983/proj4/\n",
        "\n",
        "    +proj=utm +zone=23 +south +ellps=GRS80 +towgs84=0,0,0,0,0,0,0 +units=m +no_defs \n",
        "\n",
        "Esse código será utlizado para setar o crs dos dois GeoDataFrames:\n"
      ]
    },
    {
      "cell_type": "code",
      "metadata": {
        "colab": {
          "base_uri": "https://localhost:8080/"
        },
        "id": "Fz_JHe6qZ00L",
        "outputId": "0a54ad59-3782-46c3-f622-ffba8f2e7756"
      },
      "source": [
        "print(rj.crs)\n",
        "print(gdf_dados.crs)"
      ],
      "execution_count": 71,
      "outputs": [
        {
          "output_type": "stream",
          "name": "stdout",
          "text": [
            "epsg:4674\n",
            "+proj=latlong +ellps=WGS84 +datum=WGS84 +no_defs +type=crs\n"
          ]
        }
      ]
    },
    {
      "cell_type": "code",
      "metadata": {
        "id": "lcBShQG4vxh4"
      },
      "source": [
        "rj = rj.to_crs('+proj=utm +zone=23 +south +ellps=GRS80 +towgs84=0,0,0,0,0,0,0 +units=km +no_defs')\n",
        "gdf_dados = gdf_dados.to_crs('+proj=utm +zone=23 +south +ellps=GRS80 +towgs84=0,0,0,0,0,0,0 +units=km +no_defs')"
      ],
      "execution_count": 72,
      "outputs": []
    },
    {
      "cell_type": "code",
      "metadata": {
        "colab": {
          "base_uri": "https://localhost:8080/"
        },
        "id": "h3vjK0tmx_2e",
        "outputId": "76c5c8b7-b0d9-4f66-ee1b-3c5053be412a"
      },
      "source": [
        "print(rj.crs)\n",
        "print(gdf_dados.crs)"
      ],
      "execution_count": 74,
      "outputs": [
        {
          "output_type": "stream",
          "name": "stdout",
          "text": [
            "+proj=utm +zone=23 +south +ellps=GRS80 +towgs84=0,0,0,0,0,0,0 +units=km +no_defs +type=crs\n",
            "+proj=utm +zone=23 +south +ellps=GRS80 +towgs84=0,0,0,0,0,0,0 +units=km +no_defs +type=crs\n"
          ]
        }
      ]
    },
    {
      "cell_type": "code",
      "metadata": {
        "colab": {
          "base_uri": "https://localhost:8080/"
        },
        "id": "HV62IKVryBGe",
        "outputId": "bb933a8c-2b80-4e46-f337-ed9c41664488"
      },
      "source": [
        "print(rj)"
      ],
      "execution_count": 75,
      "outputs": [
        {
          "output_type": "stream",
          "name": "stdout",
          "text": [
            "      ID  ...                                           geometry\n",
            "67  1535  ...  MULTIPOLYGON (((692.576 7476.609, 692.572 7476...\n",
            "\n",
            "[1 rows x 4 columns]\n"
          ]
        }
      ]
    },
    {
      "cell_type": "markdown",
      "metadata": {
        "id": "bNb7G-Bey2oO"
      },
      "source": [
        "Agora, os dados Geometry não estão mais em Latitude e Longitude, e sim em Km. Dessa forma, podemos medir as distâncias entre os pontos."
      ]
    },
    {
      "cell_type": "code",
      "metadata": {
        "id": "TNXe2qKIy0pr"
      },
      "source": [
        ""
      ],
      "execution_count": null,
      "outputs": []
    }
  ]
}